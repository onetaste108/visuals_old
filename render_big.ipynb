{
 "cells": [
  {
   "cell_type": "code",
   "execution_count": 2,
   "metadata": {},
   "outputs": [
    {
     "name": "stderr",
     "output_type": "stream",
     "text": [
      "/usr/local/lib/python3.5/dist-packages/h5py/__init__.py:36: FutureWarning: Conversion of the second argument of issubdtype from `float` to `np.floating` is deprecated. In future, it will be treated as `np.float64 == np.dtype(float).type`.\n",
      "  from ._conv import register_converters as _register_converters\n",
      "Using TensorFlow backend.\n"
     ]
    }
   ],
   "source": [
    "%load_ext autoreload\n",
    "%autoreload 2\n",
    "\n",
    "from netty.netty import Netty\n",
    "import img_utils as im\n",
    "import numpy as np\n",
    "from netty import netty_utils as nutil\n",
    "from IPython.display import clear_output"
   ]
  },
  {
   "cell_type": "code",
   "execution_count": 4,
   "metadata": {},
   "outputs": [
    {
     "name": "stderr",
     "output_type": "stream",
     "text": [
      "/usr/local/lib/python3.5/dist-packages/keras/models.py:282: UserWarning: No training configuration found in save file: the model was *not* compiled. Compile it manually.\n",
      "  warnings.warn('No training configuration found in save file: '\n"
     ]
    }
   ],
   "source": [
    "net = Netty()\n",
    "net.clear()\n",
    "net.args[\"style_layers\"] = [1,4,7]\n",
    "net.build()"
   ]
  },
  {
   "cell_type": "code",
   "execution_count": 9,
   "metadata": {},
   "outputs": [],
   "source": [
    "a = im.load(\"data/tex/flame_braini075.jpg\")\n",
    "b = im.load(\"data/tex/exp_2.jpg\")\n",
    "b2 = im.load(\"data/tex/exp_1.jpg\")\n",
    "c = im.load(\"data/tex/br_5.jpg\")\n",
    "d = im.histmatch(255-c,b)\n",
    "e = im.histmatch(c,b)\n",
    "\n",
    "\n",
    "xs = [im.load(\"data/x/bok_1.jpg\"), im.load(\"data/x/bok_2.jpg\"), im.load(\"data/x/bok_4.jpg\")]\n",
    "\n",
    "imgs_ = [[a,b],[a],[d,b2]]\n",
    "masks = None\n",
    "scales_ = [\n",
    "    [im.propscale([4134+100,2480+100],a.shape[:2]),\n",
    "          im.propscale([4134+100,2480+100],b.shape[:2])],\n",
    "          [im.propscale([4134+100,2480+100],a.shape[:2])],\n",
    "    [im.propscale([4134+100,2480+100],d.shape[:2])*0.75,\n",
    "          im.propscale([4134+100,2480+100],b.shape[:2])]\n",
    "         ]\n",
    "w = None"
   ]
  },
  {
   "cell_type": "code",
   "execution_count": 10,
   "metadata": {},
   "outputs": [],
   "source": [
    "fn(xs[0],imgs_[0],scales_[0])\n",
    "fn(xs[1],imgs_[1],scales_[1])\n",
    "fn(xs[2],imgs_[2],scales_[2])"
   ]
  },
  {
   "cell_type": "code",
   "execution_count": 11,
   "metadata": {
    "scrolled": true
   },
   "outputs": [],
   "source": [
    "def fn(x,imgs,scales):\n",
    "    render_iters = 10\n",
    "    render_maxfun = 20\n",
    "\n",
    "    hh = 2480+100\n",
    "    ww = 4134+100\n",
    "    w2 = ww // 2\n",
    "    ovr = 600\n",
    "    ov2 = ovr // 2\n",
    "\n",
    "    x = im.size(x,(ww,hh))\n",
    "    x = np.array(x)\n",
    "\n",
    "    net.args[\"size\"] = [w2+ov2,hh]\n",
    "    net.args[\"maxfun\"] = render_maxfun\n",
    "    patches = [[[0,hh],[0,w2+ov2]],[[0,hh],[w2-ov2,ww]]]\n",
    "\n",
    "    for j in range(render_iters):\n",
    "        for i,p in enumerate(patches):\n",
    "            print(p[0][0],p[0][1],p[1][0],p[1][1])\n",
    "\n",
    "            net.set_style(imgs,masks,scales,w)\n",
    "            net.set_x0(x[p[0][0]:p[0][1],p[1][0]:p[1][1]])\n",
    "            print(\"Setup...\")\n",
    "            net.setup()\n",
    "            print(\"Render!\")\n",
    "            x1=net.render()\n",
    "            clear_output()\n",
    "        #     \n",
    "            if i == 0:\n",
    "                x[p[0][0]:p[0][1],p[1][0]:p[1][1]-ovr] = x1[:,:-ovr]\n",
    "                for y in range(ovr):\n",
    "                    x[p[0][0]:p[0][1],p[1][1]-ovr+y] = x[p[0][0]:p[0][1],p[1][1]-ovr+y]*(y/ovr) + x1[:,-ovr+y]*((ovr-y-1)/ovr)\n",
    "            else:\n",
    "                x[p[0][0]:p[0][1],p[1][0]+ovr:p[1][1]] = x1[:,ovr:]\n",
    "                for y in range(ovr):\n",
    "                    x[p[0][0]:p[0][1],p[1][0]+y] = x[p[0][0]:p[0][1],p[1][0]+y]*(y/ovr) + x1[:,y]*((ovr-y-1)/ovr)\n",
    "\n",
    "    im.save_frame(x,\"data/bin\",q=95)"
   ]
  },
  {
   "cell_type": "code",
   "execution_count": 27,
   "metadata": {},
   "outputs": [],
   "source": [
    "x = np.array(x)\n",
    "x[p[0][0]:p[0][1],p[1][0]:p[1][1]-ovr] = x1[:,:-ovr]"
   ]
  },
  {
   "cell_type": "code",
   "execution_count": 25,
   "metadata": {},
   "outputs": [
    {
     "name": "stdout",
     "output_type": "stream",
     "text": [
      "0 2580 0 1817\n",
      "(2580, 1817, 3)\n",
      "(2580, 1817, 3)\n",
      "(2580, 2417, 3)\n",
      "(2580, 4234, 3)\n"
     ]
    },
    {
     "data": {
      "text/plain": [
       "[2417, 2580]"
      ]
     },
     "execution_count": 25,
     "metadata": {},
     "output_type": "execute_result"
    }
   ],
   "source": [
    "print(patches[0][0][0],patches[0][0][1],patches[0][1][0],patches[0][1][1]-ovr)\n",
    "print(x[patches[0][0][0]:patches[0][0][1],patches[0][1][0]:patches[0][1][1]-ovr].shape)\n",
    "print(x1[:,:-ovr].shape)\n",
    "print(x1.shape)\n",
    "print(x.shape)\n",
    "\n",
    "\n",
    "net.args[\"size\"]"
   ]
  }
 ],
 "metadata": {
  "kernelspec": {
   "display_name": "Python 3",
   "language": "python",
   "name": "python3"
  },
  "language_info": {
   "codemirror_mode": {
    "name": "ipython",
    "version": 3
   },
   "file_extension": ".py",
   "mimetype": "text/x-python",
   "name": "python",
   "nbconvert_exporter": "python",
   "pygments_lexer": "ipython3",
   "version": "3.5.2"
  }
 },
 "nbformat": 4,
 "nbformat_minor": 2
}
