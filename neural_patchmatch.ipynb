{
 "cells": [
  {
   "cell_type": "code",
   "execution_count": null,
   "metadata": {},
   "outputs": [],
   "source": [
    "%load_ext autoreload\n",
    "%autoreload 2\n",
    "\n",
    "import img_utils as im\n",
    "import numpy as np"
   ]
  },
  {
   "cell_type": "code",
   "execution_count": null,
   "metadata": {},
   "outputs": [],
   "source": [
    "from patchmatch.patchmatch import PatchMatch\n",
    "from netty import model_vgg, build_utils, vgg_utils"
   ]
  },
  {
   "cell_type": "code",
   "execution_count": null,
   "metadata": {},
   "outputs": [],
   "source": [
    "def reconstruct_vgg(img,offsets,l,ksize,stride_1,stride_2):\n",
    "    pm,pn = offsets.shape[:2]\n",
    "    m_,n_ = ((pm-1)*stride_1+ksize,(pn-1)*stride_1+ksize)\n",
    "    fullsize = vgg_utils.get_location([(m_//stride_1-1)*stride_1+ksize-1,(n_//stride_1-1)*stride_1+ksize-1],l)\n",
    "    m = fullsize[0][1]\n",
    "    n = fullsize[1][1]\n",
    "    out = np.zeros((m,n,3),dtype=np.int32)\n",
    "    for i in range(0,pm-1):\n",
    "        for j in range(0,pn-1):\n",
    "            begin = vgg_utils.get_location([i*stride_1,j*stride_1],l)\n",
    "            end = vgg_utils.get_location([i*stride_1+ksize-1,j*stride_1+ksize-1],l)\n",
    "            i_,j_ = offsets[i][j] * stride_2\n",
    "            begin_ = vgg_utils.get_location([i_,j_],l)\n",
    "            end_ = vgg_utils.get_location([i_+ksize-1,j_+ksize-1],l)\n",
    "\n",
    "            patch = img[begin_[0][0]:end_[0][1],begin_[1][0]:end_[1][1]]\n",
    "            out[begin[0][0]:end[0][1],begin[1][0]:end[1][1]] = patch\n",
    "    return out"
   ]
  },
  {
   "cell_type": "code",
   "execution_count": null,
   "metadata": {},
   "outputs": [],
   "source": [
    "img = im.size(im.load(\"data/me4.jpg\"),(512,512))\n",
    "# img2 = im.size(im.load(\"data/ppunk.jpg\"),(512//16,512//16))\n",
    "img2 = im.load(\"data/icon.jpg\")"
   ]
  },
  {
   "cell_type": "code",
   "execution_count": null,
   "metadata": {},
   "outputs": [],
   "source": [
    "gmodel = model_vgg.load_model(model=\"vgg19\")"
   ]
  },
  {
   "cell_type": "code",
   "execution_count": null,
   "metadata": {
    "scrolled": false
   },
   "outputs": [],
   "source": [
    "for i in range(4,8):\n",
    "#     gmodel = model_vgg.load_model(model=\"vgg19\")\n",
    "    model = build_utils.extract_layers(gmodel,[i])\n",
    "\n",
    "    f1 = model.predict(np.float32([img]))[0]\n",
    "    f2 = model.predict(np.float32([img2]))[0]\n",
    "    \n",
    "    ksize = 1\n",
    "\n",
    "    k = vgg_utils.get_location([0,0],i)[0][1] // vgg_utils.get_location([1,0],i)[0][0]\n",
    "    \n",
    "    print(k)\n",
    "    \n",
    "    p = PatchMatch()\n",
    "    p.setup(f1,f2,ksize=ksize,stride_1=k+ksize-1,stride_2=1)\n",
    "\n",
    "    p.match(4)\n",
    "\n",
    "    out = reconstruct_vgg(img2,p.offsets,i,ksize,k+ksize-1,1)\n",
    "    im.show(out)\n",
    "    im.save(out,\"data/out/patcher/d_\"+str(i)+\".jpg\")"
   ]
  }
 ],
 "metadata": {
  "kernelspec": {
   "display_name": "Python 3",
   "language": "python",
   "name": "python3"
  },
  "language_info": {
   "codemirror_mode": {
    "name": "ipython",
    "version": 3
   },
   "file_extension": ".py",
   "mimetype": "text/x-python",
   "name": "python",
   "nbconvert_exporter": "python",
   "pygments_lexer": "ipython3",
   "version": "3.6.6"
  }
 },
 "nbformat": 4,
 "nbformat_minor": 2
}
