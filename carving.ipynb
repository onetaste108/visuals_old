{
 "cells": [
  {
   "cell_type": "code",
   "execution_count": null,
   "metadata": {},
   "outputs": [],
   "source": [
    "%load_ext autoreload\n",
    "%autoreload 2\n",
    "from img_utils import *\n",
    "from basic import carving"
   ]
  },
  {
   "cell_type": "code",
   "execution_count": null,
   "metadata": {
    "scrolled": false
   },
   "outputs": [],
   "source": [
    "img = imload(\"data/v3.jpg\")\n",
    "img = imsize(img,(256,256))\n",
    "# img = np.transpose(img,(1,0,2))\n",
    "print(img.shape)\n",
    "imshow(img)\n"
   ]
  },
  {
   "cell_type": "code",
   "execution_count": null,
   "metadata": {
    "scrolled": false
   },
   "outputs": [],
   "source": [
    "out = img.copy()\n",
    "for i in range(100):\n",
    "    en = carving.get_energy(out)\n",
    "    tab = carving.calc_cost(en)\n",
    "    path = carving.find_path(tab)\n",
    "    out = carving.add_path(out,path)\n",
    "    if i%10==0:imshow(out)\n",
    "    "
   ]
  },
  {
   "cell_type": "code",
   "execution_count": null,
   "metadata": {},
   "outputs": [],
   "source": [
    "ids = carving.sort_paths(tab)\n",
    "paths = [carving.find_path(tab,i) for i in ids]\n",
    "p = paths"
   ]
  },
  {
   "cell_type": "code",
   "execution_count": null,
   "metadata": {},
   "outputs": [],
   "source": [
    "p = paths\n",
    "out = img.copy()\n",
    "for i in range(100):\n",
    "    print(i)\n",
    "    out, p = carving.carve_path(out,p[ids[i]],p)\n",
    "imshow(out)"
   ]
  },
  {
   "cell_type": "code",
   "execution_count": null,
   "metadata": {
    "scrolled": true
   },
   "outputs": [],
   "source": [
    "out = img.copy()\n",
    "out = np.transpose(out,(1,0,2))\n",
    "for i in range(10000):\n",
    "    out = np.transpose(out,(1,0,2))\n",
    "\n",
    "    print(\"energy:\",end=\" \")\n",
    "    en = carving.get_energy(out)\n",
    "    print(\"done\")\n",
    "    print(\"calc:\",end=\" \")\n",
    "    tab = carving.calc_cost(en)\n",
    "    print(\"done\")\n",
    "    path = carving.find_path(tab)\n",
    "    out = carving.carve_path(out,path)\n",
    "    \n",
    "    if i%4 == 0:\n",
    "        name = \"frame_\" + str(i//4)\n",
    "        imsave(imsize(out,(300,300)),\"data/out/carv_mi/\"+name+\".jpg\")\n",
    "        print(i/2)\n",
    "#     if i%10==0:\n",
    "#         imshow(en/20)\n",
    "#         imshow(tab/150)\n",
    "# #         imshow(carving.draw_path(out,path))\n",
    "#         imshow(out)\n"
   ]
  },
  {
   "cell_type": "code",
   "execution_count": null,
   "metadata": {},
   "outputs": [],
   "source": [
    "imshow(np.transpose(out,(1,0,2)))"
   ]
  }
 ],
 "metadata": {
  "kernelspec": {
   "display_name": "Python 3",
   "language": "python",
   "name": "python3"
  },
  "language_info": {
   "codemirror_mode": {
    "name": "ipython",
    "version": 3
   },
   "file_extension": ".py",
   "mimetype": "text/x-python",
   "name": "python",
   "nbconvert_exporter": "python",
   "pygments_lexer": "ipython3",
   "version": "3.6.6"
  }
 },
 "nbformat": 4,
 "nbformat_minor": 2
}
