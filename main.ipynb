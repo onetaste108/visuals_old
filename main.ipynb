{
 "cells": [
  {
   "cell_type": "code",
   "execution_count": 1,
   "metadata": {
    "scrolled": true
   },
   "outputs": [
    {
     "name": "stderr",
     "output_type": "stream",
     "text": [
      "Using TensorFlow backend.\n",
      "C:\\Users\\RD_W09\\AppData\\Roaming\\Python\\Python37\\site-packages\\tensorflow\\python\\framework\\dtypes.py:516: FutureWarning: Passing (type, 1) or '1type' as a synonym of type is deprecated; in a future version of numpy, it will be understood as (type, (1,)) / '(1,)type'.\n",
      "  _np_qint8 = np.dtype([(\"qint8\", np.int8, 1)])\n",
      "C:\\Users\\RD_W09\\AppData\\Roaming\\Python\\Python37\\site-packages\\tensorflow\\python\\framework\\dtypes.py:517: FutureWarning: Passing (type, 1) or '1type' as a synonym of type is deprecated; in a future version of numpy, it will be understood as (type, (1,)) / '(1,)type'.\n",
      "  _np_quint8 = np.dtype([(\"quint8\", np.uint8, 1)])\n",
      "C:\\Users\\RD_W09\\AppData\\Roaming\\Python\\Python37\\site-packages\\tensorflow\\python\\framework\\dtypes.py:518: FutureWarning: Passing (type, 1) or '1type' as a synonym of type is deprecated; in a future version of numpy, it will be understood as (type, (1,)) / '(1,)type'.\n",
      "  _np_qint16 = np.dtype([(\"qint16\", np.int16, 1)])\n",
      "C:\\Users\\RD_W09\\AppData\\Roaming\\Python\\Python37\\site-packages\\tensorflow\\python\\framework\\dtypes.py:519: FutureWarning: Passing (type, 1) or '1type' as a synonym of type is deprecated; in a future version of numpy, it will be understood as (type, (1,)) / '(1,)type'.\n",
      "  _np_quint16 = np.dtype([(\"quint16\", np.uint16, 1)])\n",
      "C:\\Users\\RD_W09\\AppData\\Roaming\\Python\\Python37\\site-packages\\tensorflow\\python\\framework\\dtypes.py:520: FutureWarning: Passing (type, 1) or '1type' as a synonym of type is deprecated; in a future version of numpy, it will be understood as (type, (1,)) / '(1,)type'.\n",
      "  _np_qint32 = np.dtype([(\"qint32\", np.int32, 1)])\n",
      "C:\\Users\\RD_W09\\AppData\\Roaming\\Python\\Python37\\site-packages\\tensorflow\\python\\framework\\dtypes.py:525: FutureWarning: Passing (type, 1) or '1type' as a synonym of type is deprecated; in a future version of numpy, it will be understood as (type, (1,)) / '(1,)type'.\n",
      "  np_resource = np.dtype([(\"resource\", np.ubyte, 1)])\n",
      "C:\\Users\\RD_W09\\AppData\\Roaming\\Python\\Python37\\site-packages\\tensorboard\\compat\\tensorflow_stub\\dtypes.py:541: FutureWarning: Passing (type, 1) or '1type' as a synonym of type is deprecated; in a future version of numpy, it will be understood as (type, (1,)) / '(1,)type'.\n",
      "  _np_qint8 = np.dtype([(\"qint8\", np.int8, 1)])\n",
      "C:\\Users\\RD_W09\\AppData\\Roaming\\Python\\Python37\\site-packages\\tensorboard\\compat\\tensorflow_stub\\dtypes.py:542: FutureWarning: Passing (type, 1) or '1type' as a synonym of type is deprecated; in a future version of numpy, it will be understood as (type, (1,)) / '(1,)type'.\n",
      "  _np_quint8 = np.dtype([(\"quint8\", np.uint8, 1)])\n",
      "C:\\Users\\RD_W09\\AppData\\Roaming\\Python\\Python37\\site-packages\\tensorboard\\compat\\tensorflow_stub\\dtypes.py:543: FutureWarning: Passing (type, 1) or '1type' as a synonym of type is deprecated; in a future version of numpy, it will be understood as (type, (1,)) / '(1,)type'.\n",
      "  _np_qint16 = np.dtype([(\"qint16\", np.int16, 1)])\n",
      "C:\\Users\\RD_W09\\AppData\\Roaming\\Python\\Python37\\site-packages\\tensorboard\\compat\\tensorflow_stub\\dtypes.py:544: FutureWarning: Passing (type, 1) or '1type' as a synonym of type is deprecated; in a future version of numpy, it will be understood as (type, (1,)) / '(1,)type'.\n",
      "  _np_quint16 = np.dtype([(\"quint16\", np.uint16, 1)])\n",
      "C:\\Users\\RD_W09\\AppData\\Roaming\\Python\\Python37\\site-packages\\tensorboard\\compat\\tensorflow_stub\\dtypes.py:545: FutureWarning: Passing (type, 1) or '1type' as a synonym of type is deprecated; in a future version of numpy, it will be understood as (type, (1,)) / '(1,)type'.\n",
      "  _np_qint32 = np.dtype([(\"qint32\", np.int32, 1)])\n",
      "C:\\Users\\RD_W09\\AppData\\Roaming\\Python\\Python37\\site-packages\\tensorboard\\compat\\tensorflow_stub\\dtypes.py:550: FutureWarning: Passing (type, 1) or '1type' as a synonym of type is deprecated; in a future version of numpy, it will be understood as (type, (1,)) / '(1,)type'.\n",
      "  np_resource = np.dtype([(\"resource\", np.ubyte, 1)])\n"
     ]
    }
   ],
   "source": [
    "%load_ext autoreload\n",
    "%autoreload 2\n",
    "\n",
    "from netty.netty import Netty\n",
    "import img_utils as im\n",
    "import numpy as np\n",
    "from netty import netty_utils as nutil\n",
    "from IPython.display import clear_output"
   ]
  },
  {
   "cell_type": "code",
   "execution_count": 13,
   "metadata": {},
   "outputs": [],
   "source": [
    "a = im.load(\"C:/Users/RD_W09/Desktop/future/in02/02.png\")\n",
    "b = im.load(\"C:/Users/RD_W09/Desktop/future/in02/01.png\")\n",
    "am = im.load(\"C:/Users/RD_W09/Desktop/future/in02/01m.png\")\n",
    "\n",
    "imgs = [a, b]\n",
    "masks = [None, am]\n",
    "scales = [0.5, 1]\n",
    "w = None"
   ]
  },
  {
   "cell_type": "code",
   "execution_count": 5,
   "metadata": {
    "scrolled": true
   },
   "outputs": [
    {
     "name": "stderr",
     "output_type": "stream",
     "text": [
      "WARNING: Logging before flag parsing goes to stderr.\n",
      "W0227 17:11:37.855094  6240 deprecation_wrapper.py:119] From C:\\Users\\RD_W09\\AppData\\Roaming\\Python\\Python37\\site-packages\\keras\\backend\\tensorflow_backend.py:95: The name tf.reset_default_graph is deprecated. Please use tf.compat.v1.reset_default_graph instead.\n",
      "\n",
      "W0227 17:11:37.856091  6240 deprecation_wrapper.py:119] From C:\\Users\\RD_W09\\AppData\\Roaming\\Python\\Python37\\site-packages\\keras\\backend\\tensorflow_backend.py:98: The name tf.placeholder_with_default is deprecated. Please use tf.compat.v1.placeholder_with_default instead.\n",
      "\n",
      "W0227 17:11:37.868059  6240 deprecation_wrapper.py:119] From C:\\Users\\RD_W09\\AppData\\Roaming\\Python\\Python37\\site-packages\\keras\\backend\\tensorflow_backend.py:102: The name tf.get_default_graph is deprecated. Please use tf.compat.v1.get_default_graph instead.\n",
      "\n",
      "W0227 17:11:37.869057  6240 deprecation_wrapper.py:119] From C:\\Users\\RD_W09\\AppData\\Roaming\\Python\\Python37\\site-packages\\keras\\backend\\tensorflow_backend.py:517: The name tf.placeholder is deprecated. Please use tf.compat.v1.placeholder instead.\n",
      "\n",
      "W0227 17:11:37.882022  6240 deprecation_wrapper.py:119] From C:\\Users\\RD_W09\\AppData\\Roaming\\Python\\Python37\\site-packages\\keras\\backend\\tensorflow_backend.py:4138: The name tf.random_uniform is deprecated. Please use tf.random.uniform instead.\n",
      "\n",
      "W0227 17:11:37.926902  6240 deprecation_wrapper.py:119] From C:\\Users\\RD_W09\\AppData\\Roaming\\Python\\Python37\\site-packages\\keras\\backend\\tensorflow_backend.py:3980: The name tf.nn.avg_pool is deprecated. Please use tf.nn.avg_pool2d instead.\n",
      "\n",
      "C:\\Users\\RD_W09\\AppData\\Roaming\\Python\\Python37\\site-packages\\keras\\engine\\saving.py:292: UserWarning: No training configuration found in save file: the model was *not* compiled. Compile it manually.\n",
      "  warnings.warn('No training configuration found in save file: '\n"
     ]
    }
   ],
   "source": [
    "net = Netty()\n",
    "net.clear()\n",
    "net.args[\"style_layers\"] = [1,4,7]\n",
    "net.build()"
   ]
  },
  {
   "cell_type": "code",
   "execution_count": 14,
   "metadata": {
    "scrolled": false
   },
   "outputs": [],
   "source": [
    "x = None\n",
    "s,m = nutil.incremental([1024,1024],512//2,1.2,300)\n",
    "\n",
    "for s_,m_ in zip(s,m):\n",
    "    print(s_)\n",
    "    print(m_)\n",
    "    net.args[\"size\"] = s_\n",
    "    net.args[\"maxfun\"] = m_\n",
    "    print(\"Setting style...\")\n",
    "    net.set_style(imgs,masks,scales,w)\n",
    "#     net.set_content(x)\n",
    "    net.set_x0(x)\n",
    "    print(\"Setup...\")\n",
    "    net.setup()\n",
    "    print(\"Render!\")\n",
    "    x=net.render()\n",
    "    clear_output()\n",
    "    im.save_frame(x,\"data/bin\",q=95)"
   ]
  },
  {
   "cell_type": "code",
   "execution_count": null,
   "metadata": {},
   "outputs": [],
   "source": [
    "s"
   ]
  },
  {
   "cell_type": "code",
   "execution_count": null,
   "metadata": {},
   "outputs": [],
   "source": [
    "net.set_style(imgs,masks,scales,w)"
   ]
  },
  {
   "cell_type": "code",
   "execution_count": null,
   "metadata": {},
   "outputs": [],
   "source": [
    "from netty.gram_patcher import split_ref\n",
    "h = 255-a\n",
    "hist = b\n",
    "patches = split_ref(hist,300,300)\n",
    "m,n = patches.shape[:2]\n",
    "himgs = []\n",
    "for i in range(m):\n",
    "    for j in range(n):\n",
    "        print(m*n,end=\" \")\n",
    "        himgs.append(\n",
    "            im.histmatch(h,\n",
    "                         hist[patches[i][j][0][0]:patches[i][j][0][1],patches[i][j][1][0]:patches[i][j][1][1]]))"
   ]
  },
  {
   "cell_type": "code",
   "execution_count": null,
   "metadata": {},
   "outputs": [],
   "source": [
    "len(himgs)\n",
    "im.show(himgs[4])"
   ]
  },
  {
   "cell_type": "code",
   "execution_count": null,
   "metadata": {
    "scrolled": false
   },
   "outputs": [],
   "source": [
    "# x = None\n",
    "# x0 = im.load(\"data/bin/frame102.jpg\")\n",
    "x = np.random.randn(512,512,3)*10\n",
    "\n",
    "net.args[\"size\"] = [512,256+50]\n",
    "net.args[\"maxfun\"] = 50\n",
    "patches = [[[0,256+50],[0,512]],[[256-50,512],[0,512]]]\n",
    "\n",
    "for j in range(100):\n",
    "    for i,p in enumerate(patches):\n",
    "        print(p[0][0],p[0][1],p[1][0],p[1][1])\n",
    "\n",
    "        net.set_style(imgs,masks,scales,w)\n",
    "        net.set_x0(x[p[0][0]:p[0][1],p[1][0]:p[1][1]])\n",
    "        print(\"Setup...\")\n",
    "        net.setup()\n",
    "        print(\"Render!\")\n",
    "        x1=net.render()\n",
    "        clear_output()\n",
    "    #     im.save_frame(x,\"data/bin\",q=95)\n",
    "        if i == 0:\n",
    "            x[p[0][0]:p[0][1]-100,p[1][0]:p[1][1]] = x1[:-100]\n",
    "            for y in range(100):\n",
    "                x[p[0][1]-100+y,p[1][0]:p[1][1]] = x[p[0][1]-100+y,p[1][0]:p[1][1]]*(y/100) + x1[-100+y]*((100-y-1)/100)\n",
    "        else:\n",
    "            x[p[0][0]+100:p[0][1],p[1][0]:p[1][1]] = x1[100:]\n",
    "            for y in range(100):\n",
    "                x[p[0][0]+y,p[1][0]:p[1][1]] = x[p[0][0]+y,p[1][0]:p[1][1]]*((100-y-1)/100) + x1[y]*(y/100)\n",
    "                \n",
    "        im.show(x)"
   ]
  },
  {
   "cell_type": "code",
   "execution_count": null,
   "metadata": {
    "scrolled": false
   },
   "outputs": [],
   "source": [
    "x = None\n",
    "s,m = nutil.incremental([int(2400*0.75),int(2400*0.75)],1024,1.2,500)\n",
    "for s_,m_ in zip(s,m):\n",
    "    print(s_)\n",
    "    print(m_)\n",
    "    net.args[\"size\"] = s_\n",
    "    net.args[\"maxfun\"] = m_\n",
    "    print(\"Setting style...\")\n",
    "    net.set_style(imgs,masks,scales,w)\n",
    "    net.set_content(a)\n",
    "\n",
    "    net.set_x0(x)\n",
    "    print(\"Setup...\")\n",
    "    net.setup()\n",
    "    print(\"Render!\")\n",
    "    x=net.render()\n",
    "    clear_output()\n",
    "    im.save_frame(x,\"data/bin\",q=95)"
   ]
  }
 ],
 "metadata": {
  "kernelspec": {
   "display_name": "Python 3",
   "language": "python",
   "name": "python3"
  },
  "language_info": {
   "codemirror_mode": {
    "name": "ipython",
    "version": 3
   },
   "file_extension": ".py",
   "mimetype": "text/x-python",
   "name": "python",
   "nbconvert_exporter": "python",
   "pygments_lexer": "ipython3",
   "version": "3.8.2"
  }
 },
 "nbformat": 4,
 "nbformat_minor": 2
}
