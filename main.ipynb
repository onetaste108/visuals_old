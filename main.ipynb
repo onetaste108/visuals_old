{
 "cells": [
  {
   "cell_type": "code",
   "execution_count": null,
   "metadata": {
    "scrolled": true
   },
   "outputs": [],
   "source": [
    "%load_ext autoreload\n",
    "%autoreload 2\n",
    "\n",
    "from netty.netty import Netty\n",
    "import img_utils as im\n",
    "import numpy as np"
   ]
  },
  {
   "cell_type": "code",
   "execution_count": null,
   "metadata": {},
   "outputs": [],
   "source": [
    "img2 = im.load(\"data/brain.jpg\")\n",
    "# img2 = im.size(img2,size=(512,512))\n",
    "# img2 = set_color(img2,img,True,False)\n",
    "# img2 = histmatch(img2,img)\n",
    "im.show(img2)"
   ]
  },
  {
   "cell_type": "code",
   "execution_count": null,
   "metadata": {
    "scrolled": true
   },
   "outputs": [],
   "source": [
    "net = Netty()\n",
    "net.clear()\n",
    "\n",
    "# net.args[\"style\"] = False\n",
    "net.args[\"content\"] = False\n",
    "\n",
    "net.args[\"style_scale\"] = 1\n",
    "net.args[\"content_w\"] = 1e-5\n",
    "# net.args[\"style_layers\"] = [1,4,7]\n",
    "\n",
    "net.args[\"octaves\"] = 1\n",
    "net.args[\"variational_w\"] = 1e-6\n",
    "net.args[\"variational_pow\"] = 1.25\n",
    "net.args[\"iters\"] = 100\n",
    "net.args[\"disp_int\"] = 100\n",
    "\n",
    "net.args[\"patch_window\"] = 256\n",
    "net.args[\"patch_window_ref_stride\"] = 256//2\n",
    "\n",
    "\n",
    "net.args[\"mrf\"] = False\n",
    "net.args[\"mrf_w\"] = 1\n",
    "net.args[\"mrf_layers\"] = [7]\n",
    "net.args[\"mrf_patch_size\"] = 1\n",
    "net.args[\"mrf_patch_stride\"] = 1\n",
    "\n",
    "\n",
    "net.args[\"size\"] = np.array([512//2,512//2])\n",
    "net.args[\"x0\"] = \"noise\"\n",
    "# net.args[\"x0\"] = x\n",
    "\n",
    "net.set_module(\"style\", img2)\n",
    "# net.set_module(\"content\", img2)\n",
    "\n",
    "net.build()\n",
    "net.setup()\n",
    "\n",
    "# x = net.render()\n",
    "# x = net.render_patched()"
   ]
  },
  {
   "cell_type": "code",
   "execution_count": null,
   "metadata": {
    "scrolled": true
   },
   "outputs": [],
   "source": [
    "# net.args[\"size\"] = np.array([512,512])\n",
    "# net.set_module(\"style\", img2)\n",
    "# net.setup()\n",
    "# net.args[\"x0\"] = x\n",
    "net.args[\"iters\"] = 500\n",
    "x = net.render()"
   ]
  },
  {
   "cell_type": "code",
   "execution_count": null,
   "metadata": {
    "scrolled": true
   },
   "outputs": [],
   "source": [
    "for i in range(10):\n",
    "    net.args[\"size\"] = np.array([int(512/2*pow(1.5,i+1)),int(512/2*pow(1.5,i+1))])\n",
    "    net.set_module(\"style\", img2)\n",
    "    net.args[\"x0\"] = x\n",
    "    \n",
    "    x = net.render_patched(4,50)\n",
    "    im.save(x,\"data/out/big3.jpg\")"
   ]
  },
  {
   "cell_type": "code",
   "execution_count": null,
   "metadata": {},
   "outputs": [],
   "source": []
  },
  {
   "cell_type": "code",
   "execution_count": null,
   "metadata": {},
   "outputs": [],
   "source": []
  }
 ],
 "metadata": {
  "kernelspec": {
   "display_name": "Python 3",
   "language": "python",
   "name": "python3"
  },
  "language_info": {
   "codemirror_mode": {
    "name": "ipython",
    "version": 3
   },
   "file_extension": ".py",
   "mimetype": "text/x-python",
   "name": "python",
   "nbconvert_exporter": "python",
   "pygments_lexer": "ipython3",
   "version": "3.6.6"
  }
 },
 "nbformat": 4,
 "nbformat_minor": 2
}
