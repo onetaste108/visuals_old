{
 "cells": [
  {
   "cell_type": "code",
   "execution_count": null,
   "metadata": {
    "scrolled": true
   },
   "outputs": [],
   "source": [
    "%load_ext autoreload\n",
    "%autoreload 2\n",
    "\n",
    "from netty.netty import Netty\n",
    "import img_utils as im\n",
    "import numpy as np"
   ]
  },
  {
   "cell_type": "code",
   "execution_count": null,
   "metadata": {
    "scrolled": true
   },
   "outputs": [],
   "source": [
    "img = im.load(\"data/hum/ref_3/mri2.jpg\")\n",
    "mask = im.load(\"data/hum/ref_3/mri2_mask.jpg\")\n",
    "im.show(img)"
   ]
  },
  {
   "cell_type": "code",
   "execution_count": null,
   "metadata": {
    "scrolled": true
   },
   "outputs": [],
   "source": [
    "net = Netty()\n",
    "net.clear()\n",
    "\n",
    "net.args[\"style_layers\"] = [1,4,7]\n",
    "net.args[\"variational_w\"] = 0\n",
    "net.build()"
   ]
  },
  {
   "cell_type": "code",
   "execution_count": null,
   "metadata": {
    "scrolled": true
   },
   "outputs": [],
   "source": [
    "net.args[\"disp_int\"] = 20\n",
    "\n",
    "x = \"noise\"\n",
    "for i in range(0,10):\n",
    "    net.args[\"x0\"] = x\n",
    "    net.args[\"maxfun\"] = 300 / pow(1.2,(i))\n",
    "    net.args[\"size\"] = [int(128*pow(1.3,(i))),int(227*pow(1.3,(i)))]\n",
    "    print(net.args[\"size\"])\n",
    "    \n",
    "    \n",
    "    net.set_style([img,np.rot90(img),np.rot90(img,2),np.rot90(img,3)],[mask,np.rot90(mask),np.rot90(mask,2),np.rot90(mask,3)])\n",
    "    net.set_tgs(net.get_style_tgs())\n",
    "    x = net.render()"
   ]
  },
  {
   "cell_type": "code",
   "execution_count": null,
   "metadata": {},
   "outputs": [],
   "source": [
    "net.tgs"
   ]
  }
 ],
 "metadata": {
  "kernelspec": {
   "display_name": "Python 3",
   "language": "python",
   "name": "python3"
  },
  "language_info": {
   "codemirror_mode": {
    "name": "ipython",
    "version": 3
   },
   "file_extension": ".py",
   "mimetype": "text/x-python",
   "name": "python",
   "nbconvert_exporter": "python",
   "pygments_lexer": "ipython3",
   "version": "3.6.6"
  }
 },
 "nbformat": 4,
 "nbformat_minor": 2
}
