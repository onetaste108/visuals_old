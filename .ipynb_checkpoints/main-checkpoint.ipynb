{
 "cells": [
  {
   "cell_type": "code",
   "execution_count": null,
   "metadata": {
    "scrolled": true
   },
   "outputs": [],
   "source": [
    "%load_ext autoreload\n",
    "%autoreload 2\n",
    "import netty\n",
    "from netty.netty import Netty\n",
    "from img_utils import *"
   ]
  },
  {
   "cell_type": "code",
   "execution_count": null,
   "metadata": {
    "scrolled": false
   },
   "outputs": [],
   "source": [
    "img = imload(\"data/m1.jpg\")\n",
    "# img = set_color(img,img2,True,False)\n",
    "# img = set_color(img,img2,True,True)\n",
    "imshow(img)"
   ]
  },
  {
   "cell_type": "code",
   "execution_count": null,
   "metadata": {
    "scrolled": false
   },
   "outputs": [],
   "source": [
    "img2 = imload(\"data/qqq.jpg\")\n",
    "# img2 = set_color(img2,img,True,False)\n",
    "# img2 = histmatch(img2,img)\n",
    "imshow(img2)"
   ]
  },
  {
   "cell_type": "code",
   "execution_count": null,
   "metadata": {
    "scrolled": false
   },
   "outputs": [],
   "source": [
    "net = Netty()\n",
    "net.clear()\n",
    "\n",
    "# net.args[\"style\"] = False\n",
    "net.args[\"style_scale\"] = 1\n",
    "net.args[\"content_w\"] = 1e-10\n",
    "net.args[\"octaves\"] = 1\n",
    "net.args[\"variational_w\"] = 1e-6\n",
    "net.args[\"variational_pow\"] = 1.25\n",
    "net.args[\"iters\"] = 10\n",
    "net.args[\"iter\"] = 10\n",
    "\n",
    "net.args[\"mrf\"] = False\n",
    "net.args[\"mrf_w\"] = 1\n",
    "net.args[\"mrf_layers\"] = [7]\n",
    "net.args[\"mrf_patch_size\"] = 1\n",
    "net.args[\"mrf_patch_stride\"] = 1\n",
    "\n",
    "\n",
    "net.args[\"size\"] = np.array([512,512])\n",
    "net.args[\"x0\"] = \"content\"\n",
    "net.args[\"x0\"] = x\n",
    "\n",
    "net.set_module(\"style\", img)\n",
    "net.set_module(\"content\", img2)\n",
    "\n",
    "net.build()\n",
    "net.setup()\n",
    "\n",
    "net.args[\"iters\"] = 10\n",
    "x = net.render()"
   ]
  },
  {
   "cell_type": "code",
   "execution_count": null,
   "metadata": {},
   "outputs": [],
   "source": [
    "imshow(x)"
   ]
  }
 ],
 "metadata": {
  "kernelspec": {
   "display_name": "Python 3",
   "language": "python",
   "name": "python3"
  },
  "language_info": {
   "codemirror_mode": {
    "name": "ipython",
    "version": 3
   },
   "file_extension": ".py",
   "mimetype": "text/x-python",
   "name": "python",
   "nbconvert_exporter": "python",
   "pygments_lexer": "ipython3",
   "version": "3.6.6"
  }
 },
 "nbformat": 4,
 "nbformat_minor": 2
}
