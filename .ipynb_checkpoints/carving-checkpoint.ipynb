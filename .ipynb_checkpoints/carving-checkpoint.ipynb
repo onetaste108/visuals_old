{
 "cells": [
  {
   "cell_type": "code",
   "execution_count": null,
   "metadata": {},
   "outputs": [],
   "source": [
    "%load_ext autoreload\n",
    "%autoreload 2\n",
    "from img_utils import *\n",
    "from basic import carving"
   ]
  },
  {
   "cell_type": "code",
   "execution_count": null,
   "metadata": {},
   "outputs": [],
   "source": [
    "img = imload(\"data/kbc.jpg\")\n",
    "img = imsize(img,factor=.08)\n",
    "# img = np.transpose(img,(1,0,2))\n",
    "print(img.shape)\n",
    "imshow(img)"
   ]
  },
  {
   "cell_type": "code",
   "execution_count": null,
   "metadata": {
    "scrolled": false
   },
   "outputs": [],
   "source": [
    "out = img.copy()\n",
    "# out = np.transpose(out,(1,0,2))\n",
    "for i in range(800):\n",
    "#     out = np.transpose(out,(1,0,2))\n",
    "\n",
    "    print(\".\",end=\" \")\n",
    "    en = carving.get_energy(out)\n",
    "    tab = carving.calc_cost(en)\n",
    "\n",
    "    path = carving.find_path(tab)\n",
    "    out = carving.carve_path(out,path)\n",
    "    if i%10==0:\n",
    "        imshow(en/20)\n",
    "        imshow(tab/150)\n",
    "#         imshow(carving.draw_path(out,path))\n",
    "        imshow(out)\n"
   ]
  },
  {
   "cell_type": "code",
   "execution_count": null,
   "metadata": {},
   "outputs": [],
   "source": [
    "imshow(np.transpose(out,(1,0,2)))"
   ]
  }
 ],
 "metadata": {
  "kernelspec": {
   "display_name": "Python 3",
   "language": "python",
   "name": "python3"
  },
  "language_info": {
   "codemirror_mode": {
    "name": "ipython",
    "version": 3
   },
   "file_extension": ".py",
   "mimetype": "text/x-python",
   "name": "python",
   "nbconvert_exporter": "python",
   "pygments_lexer": "ipython3",
   "version": "3.6.6"
  }
 },
 "nbformat": 4,
 "nbformat_minor": 2
}
