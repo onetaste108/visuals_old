{
 "cells": [
  {
   "cell_type": "code",
   "execution_count": 45,
   "metadata": {},
   "outputs": [],
   "source": [
    "def div(x, y, r):\n",
    "    t = \"\".join([\"\\t\" for i in range(r)])\n",
    "    print(t+\"y:\",y)\n",
    "    if y > x: \n",
    "        r = 0\n",
    "    else:\n",
    "        q = div(x, y*2, r+1)\n",
    "        print(t+\"q:\",q)\n",
    "        print(t+\"2*q*y:\",2*q*y)\n",
    "        print(t+\"x-2*q*y:\",x - 2*q*y)\n",
    "        if (x - 2*q*y) < y:\n",
    "            print(t+\"< y\")\n",
    "            r = 2*q\n",
    "        else:\n",
    "            print(t+\">= y\")\n",
    "            r = 2*q + 1\n",
    "    print(t+\"return:\",r)\n",
    "    return r"
   ]
  },
  {
   "cell_type": "code",
   "execution_count": 48,
   "metadata": {},
   "outputs": [
    {
     "name": "stdout",
     "output_type": "stream",
     "text": [
      "y: 3\n",
      "\ty: 6\n",
      "\t\ty: 12\n",
      "\t\t\ty: 24\n",
      "\t\t\t\ty: 48\n",
      "\t\t\t\treturn: 0\n",
      "\t\t\tq: 0\n",
      "\t\t\t2*q*y: 0\n",
      "\t\t\tx-2*q*y: 36\n",
      "\t\t\t>= y\n",
      "\t\t\treturn: 1\n",
      "\t\tq: 1\n",
      "\t\t2*q*y: 24\n",
      "\t\tx-2*q*y: 12\n",
      "\t\t>= y\n",
      "\t\treturn: 3\n",
      "\tq: 3\n",
      "\t2*q*y: 36\n",
      "\tx-2*q*y: 0\n",
      "\t< y\n",
      "\treturn: 6\n",
      "q: 6\n",
      "2*q*y: 36\n",
      "x-2*q*y: 0\n",
      "< y\n",
      "return: 12\n"
     ]
    },
    {
     "data": {
      "text/plain": [
       "12"
      ]
     },
     "execution_count": 48,
     "metadata": {},
     "output_type": "execute_result"
    }
   ],
   "source": [
    "div(36,3,0)"
   ]
  },
  {
   "cell_type": "code",
   "execution_count": 7,
   "metadata": {},
   "outputs": [
    {
     "data": {
      "text/plain": [
       "35"
      ]
     },
     "execution_count": 7,
     "metadata": {},
     "output_type": "execute_result"
    }
   ],
   "source": [
    "5*7"
   ]
  }
 ],
 "metadata": {
  "kernelspec": {
   "display_name": "Python 3",
   "language": "python",
   "name": "python3"
  },
  "language_info": {
   "codemirror_mode": {
    "name": "ipython",
    "version": 3
   },
   "file_extension": ".py",
   "mimetype": "text/x-python",
   "name": "python",
   "nbconvert_exporter": "python",
   "pygments_lexer": "ipython3",
   "version": "3.8.2"
  }
 },
 "nbformat": 4,
 "nbformat_minor": 4
}
